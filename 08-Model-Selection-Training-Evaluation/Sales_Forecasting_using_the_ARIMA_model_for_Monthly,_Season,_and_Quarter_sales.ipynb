{
  "nbformat": 4,
  "nbformat_minor": 0,
  "metadata": {
    "colab": {
      "provenance": []
    },
    "kernelspec": {
      "name": "python3",
      "display_name": "Python 3"
    },
    "language_info": {
      "name": "python"
    }
  },
  "cells": [
    {
      "cell_type": "code",
      "execution_count": null,
      "metadata": {
        "id": "0I86__YD5HhD"
      },
      "outputs": [],
      "source": [
        "#Importing Libraries\n",
        "import pandas as pd\n",
        "import numpy as np\n",
        "import matplotlib.pyplot as plt\n",
        "import seaborn as sns\n",
        "import warnings\n",
        "warnings.filterwarnings('ignore')\n",
        "\n",
        "#to display plots inline\n",
        "%matplotlib inline"
      ]
    },
    {
      "cell_type": "code",
      "source": [
        "from google.colab import drive\n",
        "\n",
        "# Mount Google Drive\n",
        "drive.mount('/content/gdrive')"
      ],
      "metadata": {
        "colab": {
          "base_uri": "https://localhost:8080/"
        },
        "id": "QYTDTGoF5LdK",
        "outputId": "32e1b982-8b18-4439-dc68-a24900e94bcb"
      },
      "execution_count": null,
      "outputs": [
        {
          "output_type": "stream",
          "name": "stdout",
          "text": [
            "Mounted at /content/gdrive\n"
          ]
        }
      ]
    },
    {
      "cell_type": "code",
      "source": [
        "# Load the saved dataset\n",
        "updated_data_path = '/content/gdrive/My Drive/Colab Notebooks/Sales Trends Analysis Project/updated_sales_dataset_with_features.csv'\n",
        "df_updated = pd.read_csv(updated_data_path)\n",
        "\n",
        "# Display the first few rows to verify the dataset\n",
        "df_updated.head()"
      ],
      "metadata": {
        "colab": {
          "base_uri": "https://localhost:8080/",
          "height": 568
        },
        "id": "ca-DBAaD5LTT",
        "outputId": "3d0fc0bd-130e-4e04-820a-64bfd3e0d541"
      },
      "execution_count": null,
      "outputs": [
        {
          "output_type": "execute_result",
          "data": {
            "text/plain": [
              "   Invoice_Id StockCode                          Description  Quantity  \\\n",
              "0      536365    85123A   WHITE HANGING HEART T-LIGHT HOLDER         6   \n",
              "1      536365     71053                  WHITE METAL LANTERN         6   \n",
              "2      536365    84406B       CREAM CUPID HEARTS COAT HANGER         8   \n",
              "3      536365    84029G  KNITTED UNION FLAG HOT WATER BOTTLE         6   \n",
              "4      536365    84029E       RED WOOLLY HOTTIE WHITE HEART.         6   \n",
              "\n",
              "          Invoice_date  Price  Customer_Id         Country  Year  Month  ...  \\\n",
              "0  2010-12-01 08:26:00   2.55      17850.0  United Kingdom  2010     12  ...   \n",
              "1  2010-12-01 08:26:00   3.39      17850.0  United Kingdom  2010     12  ...   \n",
              "2  2010-12-01 08:26:00   2.75      17850.0  United Kingdom  2010     12  ...   \n",
              "3  2010-12-01 08:26:00   3.39      17850.0  United Kingdom  2010     12  ...   \n",
              "4  2010-12-01 08:26:00   3.39      17850.0  United Kingdom  2010     12  ...   \n",
              "\n",
              "   Week  Season  Is_Christmas_Season  Lag_1  Lag_7  Lag_30  Rolling_Mean_7  \\\n",
              "0    48  Winter                    0    NaN    NaN     NaN             NaN   \n",
              "1    48  Winter                    0  15.30    NaN     NaN             NaN   \n",
              "2    48  Winter                    0  20.34    NaN     NaN             NaN   \n",
              "3    48  Winter                    0  22.00    NaN     NaN             NaN   \n",
              "4    48  Winter                    0  20.34    NaN     NaN             NaN   \n",
              "\n",
              "  Rolling_Mean_30  Rolling_Sum_7  Rolling_Sum_30  \n",
              "0             NaN            NaN             NaN  \n",
              "1             NaN            NaN             NaN  \n",
              "2             NaN            NaN             NaN  \n",
              "3             NaN            NaN             NaN  \n",
              "4             NaN            NaN             NaN  \n",
              "\n",
              "[5 rows x 26 columns]"
            ],
            "text/html": [
              "\n",
              "  <div id=\"df-bb27edbb-58d1-4e4c-b219-c843993cfcf3\" class=\"colab-df-container\">\n",
              "    <div>\n",
              "<style scoped>\n",
              "    .dataframe tbody tr th:only-of-type {\n",
              "        vertical-align: middle;\n",
              "    }\n",
              "\n",
              "    .dataframe tbody tr th {\n",
              "        vertical-align: top;\n",
              "    }\n",
              "\n",
              "    .dataframe thead th {\n",
              "        text-align: right;\n",
              "    }\n",
              "</style>\n",
              "<table border=\"1\" class=\"dataframe\">\n",
              "  <thead>\n",
              "    <tr style=\"text-align: right;\">\n",
              "      <th></th>\n",
              "      <th>Invoice_Id</th>\n",
              "      <th>StockCode</th>\n",
              "      <th>Description</th>\n",
              "      <th>Quantity</th>\n",
              "      <th>Invoice_date</th>\n",
              "      <th>Price</th>\n",
              "      <th>Customer_Id</th>\n",
              "      <th>Country</th>\n",
              "      <th>Year</th>\n",
              "      <th>Month</th>\n",
              "      <th>...</th>\n",
              "      <th>Week</th>\n",
              "      <th>Season</th>\n",
              "      <th>Is_Christmas_Season</th>\n",
              "      <th>Lag_1</th>\n",
              "      <th>Lag_7</th>\n",
              "      <th>Lag_30</th>\n",
              "      <th>Rolling_Mean_7</th>\n",
              "      <th>Rolling_Mean_30</th>\n",
              "      <th>Rolling_Sum_7</th>\n",
              "      <th>Rolling_Sum_30</th>\n",
              "    </tr>\n",
              "  </thead>\n",
              "  <tbody>\n",
              "    <tr>\n",
              "      <th>0</th>\n",
              "      <td>536365</td>\n",
              "      <td>85123A</td>\n",
              "      <td>WHITE HANGING HEART T-LIGHT HOLDER</td>\n",
              "      <td>6</td>\n",
              "      <td>2010-12-01 08:26:00</td>\n",
              "      <td>2.55</td>\n",
              "      <td>17850.0</td>\n",
              "      <td>United Kingdom</td>\n",
              "      <td>2010</td>\n",
              "      <td>12</td>\n",
              "      <td>...</td>\n",
              "      <td>48</td>\n",
              "      <td>Winter</td>\n",
              "      <td>0</td>\n",
              "      <td>NaN</td>\n",
              "      <td>NaN</td>\n",
              "      <td>NaN</td>\n",
              "      <td>NaN</td>\n",
              "      <td>NaN</td>\n",
              "      <td>NaN</td>\n",
              "      <td>NaN</td>\n",
              "    </tr>\n",
              "    <tr>\n",
              "      <th>1</th>\n",
              "      <td>536365</td>\n",
              "      <td>71053</td>\n",
              "      <td>WHITE METAL LANTERN</td>\n",
              "      <td>6</td>\n",
              "      <td>2010-12-01 08:26:00</td>\n",
              "      <td>3.39</td>\n",
              "      <td>17850.0</td>\n",
              "      <td>United Kingdom</td>\n",
              "      <td>2010</td>\n",
              "      <td>12</td>\n",
              "      <td>...</td>\n",
              "      <td>48</td>\n",
              "      <td>Winter</td>\n",
              "      <td>0</td>\n",
              "      <td>15.30</td>\n",
              "      <td>NaN</td>\n",
              "      <td>NaN</td>\n",
              "      <td>NaN</td>\n",
              "      <td>NaN</td>\n",
              "      <td>NaN</td>\n",
              "      <td>NaN</td>\n",
              "    </tr>\n",
              "    <tr>\n",
              "      <th>2</th>\n",
              "      <td>536365</td>\n",
              "      <td>84406B</td>\n",
              "      <td>CREAM CUPID HEARTS COAT HANGER</td>\n",
              "      <td>8</td>\n",
              "      <td>2010-12-01 08:26:00</td>\n",
              "      <td>2.75</td>\n",
              "      <td>17850.0</td>\n",
              "      <td>United Kingdom</td>\n",
              "      <td>2010</td>\n",
              "      <td>12</td>\n",
              "      <td>...</td>\n",
              "      <td>48</td>\n",
              "      <td>Winter</td>\n",
              "      <td>0</td>\n",
              "      <td>20.34</td>\n",
              "      <td>NaN</td>\n",
              "      <td>NaN</td>\n",
              "      <td>NaN</td>\n",
              "      <td>NaN</td>\n",
              "      <td>NaN</td>\n",
              "      <td>NaN</td>\n",
              "    </tr>\n",
              "    <tr>\n",
              "      <th>3</th>\n",
              "      <td>536365</td>\n",
              "      <td>84029G</td>\n",
              "      <td>KNITTED UNION FLAG HOT WATER BOTTLE</td>\n",
              "      <td>6</td>\n",
              "      <td>2010-12-01 08:26:00</td>\n",
              "      <td>3.39</td>\n",
              "      <td>17850.0</td>\n",
              "      <td>United Kingdom</td>\n",
              "      <td>2010</td>\n",
              "      <td>12</td>\n",
              "      <td>...</td>\n",
              "      <td>48</td>\n",
              "      <td>Winter</td>\n",
              "      <td>0</td>\n",
              "      <td>22.00</td>\n",
              "      <td>NaN</td>\n",
              "      <td>NaN</td>\n",
              "      <td>NaN</td>\n",
              "      <td>NaN</td>\n",
              "      <td>NaN</td>\n",
              "      <td>NaN</td>\n",
              "    </tr>\n",
              "    <tr>\n",
              "      <th>4</th>\n",
              "      <td>536365</td>\n",
              "      <td>84029E</td>\n",
              "      <td>RED WOOLLY HOTTIE WHITE HEART.</td>\n",
              "      <td>6</td>\n",
              "      <td>2010-12-01 08:26:00</td>\n",
              "      <td>3.39</td>\n",
              "      <td>17850.0</td>\n",
              "      <td>United Kingdom</td>\n",
              "      <td>2010</td>\n",
              "      <td>12</td>\n",
              "      <td>...</td>\n",
              "      <td>48</td>\n",
              "      <td>Winter</td>\n",
              "      <td>0</td>\n",
              "      <td>20.34</td>\n",
              "      <td>NaN</td>\n",
              "      <td>NaN</td>\n",
              "      <td>NaN</td>\n",
              "      <td>NaN</td>\n",
              "      <td>NaN</td>\n",
              "      <td>NaN</td>\n",
              "    </tr>\n",
              "  </tbody>\n",
              "</table>\n",
              "<p>5 rows × 26 columns</p>\n",
              "</div>\n",
              "    <div class=\"colab-df-buttons\">\n",
              "\n",
              "  <div class=\"colab-df-container\">\n",
              "    <button class=\"colab-df-convert\" onclick=\"convertToInteractive('df-bb27edbb-58d1-4e4c-b219-c843993cfcf3')\"\n",
              "            title=\"Convert this dataframe to an interactive table.\"\n",
              "            style=\"display:none;\">\n",
              "\n",
              "  <svg xmlns=\"http://www.w3.org/2000/svg\" height=\"24px\" viewBox=\"0 -960 960 960\">\n",
              "    <path d=\"M120-120v-720h720v720H120Zm60-500h600v-160H180v160Zm220 220h160v-160H400v160Zm0 220h160v-160H400v160ZM180-400h160v-160H180v160Zm440 0h160v-160H620v160ZM180-180h160v-160H180v160Zm440 0h160v-160H620v160Z\"/>\n",
              "  </svg>\n",
              "    </button>\n",
              "\n",
              "  <style>\n",
              "    .colab-df-container {\n",
              "      display:flex;\n",
              "      gap: 12px;\n",
              "    }\n",
              "\n",
              "    .colab-df-convert {\n",
              "      background-color: #E8F0FE;\n",
              "      border: none;\n",
              "      border-radius: 50%;\n",
              "      cursor: pointer;\n",
              "      display: none;\n",
              "      fill: #1967D2;\n",
              "      height: 32px;\n",
              "      padding: 0 0 0 0;\n",
              "      width: 32px;\n",
              "    }\n",
              "\n",
              "    .colab-df-convert:hover {\n",
              "      background-color: #E2EBFA;\n",
              "      box-shadow: 0px 1px 2px rgba(60, 64, 67, 0.3), 0px 1px 3px 1px rgba(60, 64, 67, 0.15);\n",
              "      fill: #174EA6;\n",
              "    }\n",
              "\n",
              "    .colab-df-buttons div {\n",
              "      margin-bottom: 4px;\n",
              "    }\n",
              "\n",
              "    [theme=dark] .colab-df-convert {\n",
              "      background-color: #3B4455;\n",
              "      fill: #D2E3FC;\n",
              "    }\n",
              "\n",
              "    [theme=dark] .colab-df-convert:hover {\n",
              "      background-color: #434B5C;\n",
              "      box-shadow: 0px 1px 3px 1px rgba(0, 0, 0, 0.15);\n",
              "      filter: drop-shadow(0px 1px 2px rgba(0, 0, 0, 0.3));\n",
              "      fill: #FFFFFF;\n",
              "    }\n",
              "  </style>\n",
              "\n",
              "    <script>\n",
              "      const buttonEl =\n",
              "        document.querySelector('#df-bb27edbb-58d1-4e4c-b219-c843993cfcf3 button.colab-df-convert');\n",
              "      buttonEl.style.display =\n",
              "        google.colab.kernel.accessAllowed ? 'block' : 'none';\n",
              "\n",
              "      async function convertToInteractive(key) {\n",
              "        const element = document.querySelector('#df-bb27edbb-58d1-4e4c-b219-c843993cfcf3');\n",
              "        const dataTable =\n",
              "          await google.colab.kernel.invokeFunction('convertToInteractive',\n",
              "                                                    [key], {});\n",
              "        if (!dataTable) return;\n",
              "\n",
              "        const docLinkHtml = 'Like what you see? Visit the ' +\n",
              "          '<a target=\"_blank\" href=https://colab.research.google.com/notebooks/data_table.ipynb>data table notebook</a>'\n",
              "          + ' to learn more about interactive tables.';\n",
              "        element.innerHTML = '';\n",
              "        dataTable['output_type'] = 'display_data';\n",
              "        await google.colab.output.renderOutput(dataTable, element);\n",
              "        const docLink = document.createElement('div');\n",
              "        docLink.innerHTML = docLinkHtml;\n",
              "        element.appendChild(docLink);\n",
              "      }\n",
              "    </script>\n",
              "  </div>\n",
              "\n",
              "\n",
              "<div id=\"df-e77535d5-f311-48c2-8d23-18b2befd0c90\">\n",
              "  <button class=\"colab-df-quickchart\" onclick=\"quickchart('df-e77535d5-f311-48c2-8d23-18b2befd0c90')\"\n",
              "            title=\"Suggest charts\"\n",
              "            style=\"display:none;\">\n",
              "\n",
              "<svg xmlns=\"http://www.w3.org/2000/svg\" height=\"24px\"viewBox=\"0 0 24 24\"\n",
              "     width=\"24px\">\n",
              "    <g>\n",
              "        <path d=\"M19 3H5c-1.1 0-2 .9-2 2v14c0 1.1.9 2 2 2h14c1.1 0 2-.9 2-2V5c0-1.1-.9-2-2-2zM9 17H7v-7h2v7zm4 0h-2V7h2v10zm4 0h-2v-4h2v4z\"/>\n",
              "    </g>\n",
              "</svg>\n",
              "  </button>\n",
              "\n",
              "<style>\n",
              "  .colab-df-quickchart {\n",
              "      --bg-color: #E8F0FE;\n",
              "      --fill-color: #1967D2;\n",
              "      --hover-bg-color: #E2EBFA;\n",
              "      --hover-fill-color: #174EA6;\n",
              "      --disabled-fill-color: #AAA;\n",
              "      --disabled-bg-color: #DDD;\n",
              "  }\n",
              "\n",
              "  [theme=dark] .colab-df-quickchart {\n",
              "      --bg-color: #3B4455;\n",
              "      --fill-color: #D2E3FC;\n",
              "      --hover-bg-color: #434B5C;\n",
              "      --hover-fill-color: #FFFFFF;\n",
              "      --disabled-bg-color: #3B4455;\n",
              "      --disabled-fill-color: #666;\n",
              "  }\n",
              "\n",
              "  .colab-df-quickchart {\n",
              "    background-color: var(--bg-color);\n",
              "    border: none;\n",
              "    border-radius: 50%;\n",
              "    cursor: pointer;\n",
              "    display: none;\n",
              "    fill: var(--fill-color);\n",
              "    height: 32px;\n",
              "    padding: 0;\n",
              "    width: 32px;\n",
              "  }\n",
              "\n",
              "  .colab-df-quickchart:hover {\n",
              "    background-color: var(--hover-bg-color);\n",
              "    box-shadow: 0 1px 2px rgba(60, 64, 67, 0.3), 0 1px 3px 1px rgba(60, 64, 67, 0.15);\n",
              "    fill: var(--button-hover-fill-color);\n",
              "  }\n",
              "\n",
              "  .colab-df-quickchart-complete:disabled,\n",
              "  .colab-df-quickchart-complete:disabled:hover {\n",
              "    background-color: var(--disabled-bg-color);\n",
              "    fill: var(--disabled-fill-color);\n",
              "    box-shadow: none;\n",
              "  }\n",
              "\n",
              "  .colab-df-spinner {\n",
              "    border: 2px solid var(--fill-color);\n",
              "    border-color: transparent;\n",
              "    border-bottom-color: var(--fill-color);\n",
              "    animation:\n",
              "      spin 1s steps(1) infinite;\n",
              "  }\n",
              "\n",
              "  @keyframes spin {\n",
              "    0% {\n",
              "      border-color: transparent;\n",
              "      border-bottom-color: var(--fill-color);\n",
              "      border-left-color: var(--fill-color);\n",
              "    }\n",
              "    20% {\n",
              "      border-color: transparent;\n",
              "      border-left-color: var(--fill-color);\n",
              "      border-top-color: var(--fill-color);\n",
              "    }\n",
              "    30% {\n",
              "      border-color: transparent;\n",
              "      border-left-color: var(--fill-color);\n",
              "      border-top-color: var(--fill-color);\n",
              "      border-right-color: var(--fill-color);\n",
              "    }\n",
              "    40% {\n",
              "      border-color: transparent;\n",
              "      border-right-color: var(--fill-color);\n",
              "      border-top-color: var(--fill-color);\n",
              "    }\n",
              "    60% {\n",
              "      border-color: transparent;\n",
              "      border-right-color: var(--fill-color);\n",
              "    }\n",
              "    80% {\n",
              "      border-color: transparent;\n",
              "      border-right-color: var(--fill-color);\n",
              "      border-bottom-color: var(--fill-color);\n",
              "    }\n",
              "    90% {\n",
              "      border-color: transparent;\n",
              "      border-bottom-color: var(--fill-color);\n",
              "    }\n",
              "  }\n",
              "</style>\n",
              "\n",
              "  <script>\n",
              "    async function quickchart(key) {\n",
              "      const quickchartButtonEl =\n",
              "        document.querySelector('#' + key + ' button');\n",
              "      quickchartButtonEl.disabled = true;  // To prevent multiple clicks.\n",
              "      quickchartButtonEl.classList.add('colab-df-spinner');\n",
              "      try {\n",
              "        const charts = await google.colab.kernel.invokeFunction(\n",
              "            'suggestCharts', [key], {});\n",
              "      } catch (error) {\n",
              "        console.error('Error during call to suggestCharts:', error);\n",
              "      }\n",
              "      quickchartButtonEl.classList.remove('colab-df-spinner');\n",
              "      quickchartButtonEl.classList.add('colab-df-quickchart-complete');\n",
              "    }\n",
              "    (() => {\n",
              "      let quickchartButtonEl =\n",
              "        document.querySelector('#df-e77535d5-f311-48c2-8d23-18b2befd0c90 button');\n",
              "      quickchartButtonEl.style.display =\n",
              "        google.colab.kernel.accessAllowed ? 'block' : 'none';\n",
              "    })();\n",
              "  </script>\n",
              "</div>\n",
              "\n",
              "    </div>\n",
              "  </div>\n"
            ],
            "application/vnd.google.colaboratory.intrinsic+json": {
              "type": "dataframe",
              "variable_name": "df_updated"
            }
          },
          "metadata": {},
          "execution_count": 3
        }
      ]
    },
    {
      "cell_type": "code",
      "source": [
        "df_updated.info()"
      ],
      "metadata": {
        "colab": {
          "base_uri": "https://localhost:8080/"
        },
        "id": "QXPH6FwG6xUu",
        "outputId": "0047aae3-60c3-4300-9d7b-29fc076f53fc"
      },
      "execution_count": null,
      "outputs": [
        {
          "output_type": "stream",
          "name": "stdout",
          "text": [
            "<class 'pandas.core.frame.DataFrame'>\n",
            "RangeIndex: 383418 entries, 0 to 383417\n",
            "Data columns (total 26 columns):\n",
            " #   Column               Non-Null Count   Dtype  \n",
            "---  ------               --------------   -----  \n",
            " 0   Invoice_Id           383418 non-null  int64  \n",
            " 1   StockCode            383418 non-null  object \n",
            " 2   Description          383418 non-null  object \n",
            " 3   Quantity             383418 non-null  int64  \n",
            " 4   Invoice_date         383418 non-null  object \n",
            " 5   Price                383418 non-null  float64\n",
            " 6   Customer_Id          383418 non-null  float64\n",
            " 7   Country              383418 non-null  object \n",
            " 8   Year                 383418 non-null  int64  \n",
            " 9   Month                383418 non-null  int64  \n",
            " 10  Day                  383418 non-null  int64  \n",
            " 11  DayOfWeek            383418 non-null  int64  \n",
            " 12  Hour                 383418 non-null  int64  \n",
            " 13  Weekday              383418 non-null  object \n",
            " 14  Quarter              383418 non-null  int64  \n",
            " 15  Total_Sales          383418 non-null  float64\n",
            " 16  Week                 383418 non-null  int64  \n",
            " 17  Season               383418 non-null  object \n",
            " 18  Is_Christmas_Season  383418 non-null  int64  \n",
            " 19  Lag_1                383417 non-null  float64\n",
            " 20  Lag_7                383411 non-null  float64\n",
            " 21  Lag_30               383388 non-null  float64\n",
            " 22  Rolling_Mean_7       383412 non-null  float64\n",
            " 23  Rolling_Mean_30      383389 non-null  float64\n",
            " 24  Rolling_Sum_7        383412 non-null  float64\n",
            " 25  Rolling_Sum_30       383389 non-null  float64\n",
            "dtypes: float64(10), int64(10), object(6)\n",
            "memory usage: 76.1+ MB\n"
          ]
        }
      ]
    },
    {
      "cell_type": "markdown",
      "source": [
        "# Performing sales forecasting using the ARIMA model for Monthly, Season, and Quarter sales."
      ],
      "metadata": {
        "id": "FbBDGi297iaB"
      }
    },
    {
      "cell_type": "markdown",
      "source": [
        "# Monthly, Season, and Quarter sales forecasting."
      ],
      "metadata": {
        "id": "kdWLhSrK7pIU"
      }
    },
    {
      "cell_type": "markdown",
      "source": [
        "# 1) Monthly Sales Forecasting"
      ],
      "metadata": {
        "id": "UHhCXSSN88_4"
      }
    },
    {
      "cell_type": "markdown",
      "source": [
        "**Monthly Sales Data Preparation**"
      ],
      "metadata": {
        "id": "xvtQydAp7vGa"
      }
    },
    {
      "cell_type": "code",
      "source": [
        "# Aggregate data by Month\n",
        "monthly_sales = df_updated.groupby(['Year', 'Month'])['Total_Sales'].sum().reset_index()\n",
        "\n",
        "# Convert Year and Month to a datetime format\n",
        "monthly_sales['Date'] = pd.to_datetime(monthly_sales[['Year', 'Month']].assign(DAY=1))\n",
        "\n",
        "# Set the Date as the index\n",
        "monthly_sales.set_index('Date', inplace=True)\n",
        "\n",
        "# Prepare the series for ARIMA\n",
        "monthly_sales_series = monthly_sales['Total_Sales']\n"
      ],
      "metadata": {
        "id": "pZab8NE16yc4"
      },
      "execution_count": null,
      "outputs": []
    },
    {
      "cell_type": "markdown",
      "source": [
        "**Fitting the ARIMA Model**"
      ],
      "metadata": {
        "id": "GhSBc93h8OQA"
      }
    },
    {
      "cell_type": "code",
      "source": [
        "from statsmodels.tsa.arima.model import ARIMA\n",
        "\n",
        "# Fit the ARIMA model\n",
        "model_monthly = ARIMA(monthly_sales_series, order=(5, 1, 0))\n",
        "model_monthly_fit = model_monthly.fit()\n",
        "\n",
        "# Print the summary\n",
        "print(model_monthly_fit.summary())\n"
      ],
      "metadata": {
        "colab": {
          "base_uri": "https://localhost:8080/"
        },
        "id": "pTNxZ4hF8QP_",
        "outputId": "90fcb201-f239-48fb-e62a-3aee8e32b773"
      },
      "execution_count": null,
      "outputs": [
        {
          "output_type": "stream",
          "name": "stderr",
          "text": [
            "/usr/local/lib/python3.10/dist-packages/statsmodels/tsa/base/tsa_model.py:473: ValueWarning: No frequency information was provided, so inferred frequency MS will be used.\n",
            "  self._init_dates(dates, freq)\n",
            "/usr/local/lib/python3.10/dist-packages/statsmodels/tsa/base/tsa_model.py:473: ValueWarning: No frequency information was provided, so inferred frequency MS will be used.\n",
            "  self._init_dates(dates, freq)\n",
            "/usr/local/lib/python3.10/dist-packages/statsmodels/tsa/base/tsa_model.py:473: ValueWarning: No frequency information was provided, so inferred frequency MS will be used.\n",
            "  self._init_dates(dates, freq)\n"
          ]
        },
        {
          "output_type": "stream",
          "name": "stdout",
          "text": [
            "                               SARIMAX Results                                \n",
            "==============================================================================\n",
            "Dep. Variable:            Total_Sales   No. Observations:                   13\n",
            "Model:                 ARIMA(5, 1, 0)   Log Likelihood                -163.723\n",
            "Date:                Mon, 26 Aug 2024   AIC                            339.446\n",
            "Time:                        18:27:05   BIC                            342.355\n",
            "Sample:                    12-01-2010   HQIC                           338.369\n",
            "                         - 12-01-2011                                         \n",
            "Covariance Type:                  opg                                         \n",
            "==============================================================================\n",
            "                 coef    std err          z      P>|z|      [0.025      0.975]\n",
            "------------------------------------------------------------------------------\n",
            "ar.L1         -0.5345      0.359     -1.488      0.137      -1.239       0.170\n",
            "ar.L2         -0.1741      0.465     -0.375      0.708      -1.085       0.737\n",
            "ar.L3         -0.4406      0.284     -1.550      0.121      -0.998       0.117\n",
            "ar.L4         -0.2407      0.790     -0.305      0.761      -1.790       1.309\n",
            "ar.L5          0.1016      0.849      0.120      0.905      -1.562       1.765\n",
            "sigma2      3.415e+10   2.56e-11   1.33e+21      0.000    3.42e+10    3.42e+10\n",
            "===================================================================================\n",
            "Ljung-Box (L1) (Q):                   0.76   Jarque-Bera (JB):                 9.15\n",
            "Prob(Q):                              0.38   Prob(JB):                         0.01\n",
            "Heteroskedasticity (H):               6.05   Skew:                            -1.64\n",
            "Prob(H) (two-sided):                  0.11   Kurtosis:                         5.75\n",
            "===================================================================================\n",
            "\n",
            "Warnings:\n",
            "[1] Covariance matrix calculated using the outer product of gradients (complex-step).\n",
            "[2] Covariance matrix is singular or near-singular, with condition number 1.58e+37. Standard errors may be unstable.\n"
          ]
        }
      ]
    },
    {
      "cell_type": "markdown",
      "source": [
        "**Forecasting with ARIMA**"
      ],
      "metadata": {
        "id": "Pn6CtJVZ8ZbN"
      }
    },
    {
      "cell_type": "markdown",
      "source": [
        "**Forecasting Monthly Sales**"
      ],
      "metadata": {
        "id": "GbNYdhoC8b7l"
      }
    },
    {
      "cell_type": "code",
      "source": [
        "# Forecast the next 12 months\n",
        "monthly_forecast = model_monthly_fit.forecast(steps=12)\n",
        "\n",
        "# Plot the forecast\n",
        "monthly_sales_series.plot(label='Observed')\n",
        "monthly_forecast.plot(label='Forecast', color='red')\n",
        "plt.title('Monthly Sales Forecast')\n",
        "plt.legend()\n",
        "plt.show()\n"
      ],
      "metadata": {
        "colab": {
          "base_uri": "https://localhost:8080/",
          "height": 488
        },
        "id": "mFwu7dBQ8eHF",
        "outputId": "d125ef57-b815-4a65-b9c5-1db6f664b1cd"
      },
      "execution_count": null,
      "outputs": [
        {
          "output_type": "display_data",
          "data": {
            "text/plain": [
              "<Figure size 640x480 with 1 Axes>"
            ],
            "image/png": "[encoded data removed]"
          },
          "metadata": {}
        }
      ]
    },
    {
      "cell_type": "markdown",
      "source": [
        "**Visualization Analysis**\n",
        "\n",
        "**Observed vs. Forecasted Sales:**\n",
        "\n",
        "- The plot shows the actual (observed) sales data in blue and the forecasted values in red. The observed sales exhibit a noticeable upward trend with significant fluctuations, especially towards the end of the observed period.\n",
        "\n",
        "- The forecasted values, however, show a clear deviation from the observed trend, especially after the model starts forecasting. The model struggles to capture the sharp increase in sales seen in the observed data.\n",
        "Actionable Recommendations"
      ],
      "metadata": {
        "id": "eC3wfhuEW4Mw"
      }
    },
    {
      "cell_type": "markdown",
      "source": [
        "**Evaluation of Forecasts for Monthly Sales**"
      ],
      "metadata": {
        "id": "v32T2kVM8nWO"
      }
    },
    {
      "cell_type": "code",
      "source": [
        "from sklearn.metrics import mean_absolute_error, mean_squared_error\n",
        "\n",
        "# Example: Evaluation for Monthly Sales\n",
        "mae_monthly = mean_absolute_error(monthly_sales_series[-12:], monthly_forecast)\n",
        "rmse_monthly = mean_squared_error(monthly_sales_series[-12:], monthly_forecast, squared=False)\n",
        "\n",
        "print(f'Monthly Sales MAE: {mae_monthly}')\n",
        "print(f'Monthly Sales RMSE: {rmse_monthly}')\n"
      ],
      "metadata": {
        "colab": {
          "base_uri": "https://localhost:8080/"
        },
        "id": "D1c8OYTl8pdX",
        "outputId": "66970919-4239-496e-a2ad-0fa73d9da5a0"
      },
      "execution_count": null,
      "outputs": [
        {
          "output_type": "stream",
          "name": "stdout",
          "text": [
            "Monthly Sales MAE: 171138.97416874766\n",
            "Monthly Sales RMSE: 205563.49465272395\n"
          ]
        }
      ]
    },
    {
      "cell_type": "markdown",
      "source": [
        "**Interpretation of MAE and RMSE Metrics**\n",
        "\n",
        "**Mean Absolute Error (MAE):**\n",
        "\n",
        "- The MAE of 171,138.97 indicates the average absolute difference between the predicted and actual sales values. This value is relatively high, suggesting the model might not be performing well in terms of prediction accuracy.\n",
        "\n",
        "**Root Mean Square Error (RMSE):**\n",
        "\n",
        "- The RMSE of 205,563.49 is also quite high, indicating that the model has a significant error in its predictions. RMSE penalizes larger errors more than MAE, further highlighting the model's struggle with accurately forecasting monthly sales."
      ],
      "metadata": {
        "id": "JpzQAoWNXIoq"
      }
    },
    {
      "cell_type": "markdown",
      "source": [
        "\n",
        "**Actionable Recommendations**\n",
        "\n",
        "**Model Refinement:**\n",
        "\n",
        "- Reevaluate the ARIMA Model Parameters: Given the lack of significance in the autoregressive terms, you may want to explore different (p, d, q) combinations or even use grid search to find a better-fitting model.\n",
        "\n",
        "- Consider Seasonal Models: Since the sales data appears to have seasonal patterns, exploring a SARIMA (Seasonal ARIMA) model could better capture the seasonal components, potentially improving forecast accuracy.\n",
        "\n",
        "- Incorporate External Factors: Consider adding external regressors, such as marketing activities, holidays, or economic indicators, to the model to help explain the observed volatility and improve the forecast.\n",
        "\n",
        "**Alternative Models:**\n",
        "\n",
        "- Try Prophet: Prophet, developed by Facebook, is particularly effective in handling seasonality and trends. Given the high volatility and seasonal patterns in the data, Prophet might provide better results.\n",
        "\n",
        "- Explore Machine Learning Models: Machine learning approaches like Random Forest, XGBoost, or even deep learning models like LSTMs could better capture complex patterns in the data."
      ],
      "metadata": {
        "id": "OiFRsylcKI1k"
      }
    },
    {
      "cell_type": "markdown",
      "source": [
        "# 2) Seasonal Sales Forecasting"
      ],
      "metadata": {
        "id": "4rQQqjY4_Z0P"
      }
    },
    {
      "cell_type": "markdown",
      "source": [
        "**Seasonal Sales Data Preparation**"
      ],
      "metadata": {
        "id": "u6dY50PU77TI"
      }
    },
    {
      "cell_type": "code",
      "source": [
        "# Aggregate data by Season\n",
        "season_sales = df_updated.groupby('Season')['Total_Sales'].sum().reindex(['Winter', 'Spring', 'Summer', 'Fall']).reset_index()\n",
        "\n",
        "# Assume that each season represents a single point in time for simplicity (e.g., start of each season)\n",
        "season_dates = pd.to_datetime(['2024-01-01', '2024-04-01', '2024-07-01', '2024-10-01'])\n",
        "\n",
        "# Add the dates to the season sales data\n",
        "season_sales['Date'] = season_dates\n",
        "\n",
        "# Set the Date as the index\n",
        "season_sales.set_index('Date', inplace=True)\n",
        "\n",
        "# Prepare the series for ARIMA\n",
        "season_sales_series = season_sales['Total_Sales']\n"
      ],
      "metadata": {
        "id": "EPBRK8UN775d"
      },
      "execution_count": null,
      "outputs": []
    },
    {
      "cell_type": "markdown",
      "source": [
        "**Fitting ARIMA for Seasonal Sales**"
      ],
      "metadata": {
        "id": "Qo79wIhA-L9t"
      }
    },
    {
      "cell_type": "code",
      "source": [
        "# Fit the ARIMA model\n",
        "model_seasonal = ARIMA(season_sales_series, order=(1, 1, 0))  # Order might be simpler due to fewer data points\n",
        "model_seasonal_fit = model_seasonal.fit()\n",
        "\n",
        "# Print the summary\n",
        "print(model_seasonal_fit.summary())\n"
      ],
      "metadata": {
        "colab": {
          "base_uri": "https://localhost:8080/"
        },
        "id": "J7wFqpQ8-P1C",
        "outputId": "e4f2b787-e128-409a-8a49-ad68a4241a08"
      },
      "execution_count": null,
      "outputs": [
        {
          "output_type": "stream",
          "name": "stdout",
          "text": [
            "                               SARIMAX Results                                \n",
            "==============================================================================\n",
            "Dep. Variable:            Total_Sales   No. Observations:                    4\n",
            "Model:                 ARIMA(1, 1, 0)   Log Likelihood                 -44.221\n",
            "Date:                Mon, 26 Aug 2024   AIC                             92.443\n",
            "Time:                        18:35:47   BIC                             90.640\n",
            "Sample:                    01-01-2024   HQIC                            88.819\n",
            "                         - 10-01-2024                                         \n",
            "Covariance Type:                  opg                                         \n",
            "==============================================================================\n",
            "                 coef    std err          z      P>|z|      [0.025      0.975]\n",
            "------------------------------------------------------------------------------\n",
            "ar.L1         -0.0289      5.488     -0.005      0.996     -10.785      10.727\n",
            "sigma2      4.069e+11   7.37e-11   5.52e+21      0.000    4.07e+11    4.07e+11\n",
            "===================================================================================\n",
            "Ljung-Box (L1) (Q):                   0.12   Jarque-Bera (JB):                 0.52\n",
            "Prob(Q):                              0.73   Prob(JB):                         0.77\n",
            "Heteroskedasticity (H):                nan   Skew:                             0.69\n",
            "Prob(H) (two-sided):                   nan   Kurtosis:                         1.50\n",
            "===================================================================================\n",
            "\n",
            "Warnings:\n",
            "[1] Covariance matrix calculated using the outer product of gradients (complex-step).\n",
            "[2] Covariance matrix is singular or near-singular, with condition number    inf. Standard errors may be unstable.\n"
          ]
        },
        {
          "output_type": "stream",
          "name": "stderr",
          "text": [
            "/usr/local/lib/python3.10/dist-packages/statsmodels/tsa/base/tsa_model.py:473: ValueWarning: No frequency information was provided, so inferred frequency QS-OCT will be used.\n",
            "  self._init_dates(dates, freq)\n",
            "/usr/local/lib/python3.10/dist-packages/statsmodels/tsa/base/tsa_model.py:473: ValueWarning: No frequency information was provided, so inferred frequency QS-OCT will be used.\n",
            "  self._init_dates(dates, freq)\n",
            "/usr/local/lib/python3.10/dist-packages/statsmodels/tsa/base/tsa_model.py:473: ValueWarning: No frequency information was provided, so inferred frequency QS-OCT will be used.\n",
            "  self._init_dates(dates, freq)\n"
          ]
        }
      ]
    },
    {
      "cell_type": "markdown",
      "source": [
        "**Forecasting Seasonal Sales**"
      ],
      "metadata": {
        "id": "Jn29tALF-cS8"
      }
    },
    {
      "cell_type": "code",
      "source": [
        "# Forecast the next 4 seasons\n",
        "seasonal_forecast = model_seasonal_fit.forecast(steps=4)\n",
        "\n",
        "# Plot the forecast\n",
        "season_sales_series.plot(label='Observed')\n",
        "seasonal_forecast.plot(label='Forecast', color='red')\n",
        "plt.title('Seasonal Sales Forecast')\n",
        "plt.legend()\n",
        "plt.show()\n"
      ],
      "metadata": {
        "colab": {
          "base_uri": "https://localhost:8080/",
          "height": 488
        },
        "id": "MTMmoEsp-eFN",
        "outputId": "95a5b5ca-4633-409f-e768-90f5a020aad7"
      },
      "execution_count": null,
      "outputs": [
        {
          "output_type": "display_data",
          "data": {
            "text/plain": [
              "<Figure size 640x480 with 1 Axes>"
            ],
            "image/png": "[encoded data removed]"
          },
          "metadata": {}
        }
      ]
    },
    {
      "cell_type": "markdown",
      "source": [
        "**The plot shows the observed sales data in blue and the forecasted values in red. The observed sales exhibit a sharp increase towards the end of the period, but the forecast is a flat line at a constant level, indicating that the model is not capturing the trend or variability in the data.**"
      ],
      "metadata": {
        "id": "Px5jxcHcWMZA"
      }
    },
    {
      "cell_type": "markdown",
      "source": [
        "**Evaluation of Forecasts for Season Sales**"
      ],
      "metadata": {
        "id": "-l8SDEPvGqsp"
      }
    },
    {
      "cell_type": "code",
      "source": [
        "from sklearn.metrics import mean_absolute_error, mean_squared_error\n",
        "\n",
        "# Assuming the last 4 seasons are used for comparison\n",
        "# Adjust this if you have more historical data to compare\n",
        "mae_seasonal = mean_absolute_error(season_sales_series[-4:], seasonal_forecast)\n",
        "rmse_seasonal = mean_squared_error(season_sales_series[-4:], seasonal_forecast, squared=False)\n",
        "\n",
        "print(f'Seasonal Sales MAE: {mae_seasonal}')\n",
        "print(f'Seasonal Sales RMSE: {rmse_seasonal}')\n"
      ],
      "metadata": {
        "colab": {
          "base_uri": "https://localhost:8080/"
        },
        "id": "DyJeH99lGki_",
        "outputId": "4bf96ee6-dcf1-4166-cb18-d52993dcadf7"
      },
      "execution_count": null,
      "outputs": [
        {
          "output_type": "stream",
          "name": "stdout",
          "text": [
            "Seasonal Sales MAE: 780158.6126222142\n",
            "Seasonal Sales RMSE: 892870.3695216958\n"
          ]
        }
      ]
    },
    {
      "cell_type": "markdown",
      "source": [
        "# Interpretation of MAE and RMSE Metrics\n",
        "\n",
        "**Mean Absolute Error (MAE):**\n",
        "\n",
        "- The MAE of 780,158.61 indicates the average absolute error between the forecasted and actual seasonal sales values. This high value suggests that the model's predictions are not very accurate.\n",
        "\n",
        "**Root Mean Square Error (RMSE):**\n",
        "\n",
        "- The RMSE of 892,870.37 is also quite high, indicating that the model has significant error in its predictions. RMSE penalizes larger errors more than MAE, highlighting the model's struggles with forecasting accuracy."
      ],
      "metadata": {
        "id": "o0TOgnX5WArH"
      }
    },
    {
      "cell_type": "markdown",
      "source": [
        "# Actionable Recommendations\n",
        "\n",
        "**Model Improvement:**\n",
        "\n",
        "**Reevaluate the ARIMA Model Parameters:**\n",
        "\n",
        "- The lack of significance in the autoregressive term and the high error metrics, consider trying different (p, d, q) combinations or using grid search to find a better-fitting model.\n",
        "\n",
        "**Consider Seasonal ARIMA (SARIMA):**\n",
        "\n",
        "- Since the data is seasonal, using a SARIMA model with explicit seasonal components could better capture the seasonality in the sales data.\n",
        "\n",
        "**Incorporate External Variables:**\n",
        "\n",
        "- Adding external regressors, such as holiday periods, promotions, or economic indicators, could help explain the sharp changes in sales and improve forecast accuracy."
      ],
      "metadata": {
        "id": "wAwZjiyqWi1u"
      }
    },
    {
      "cell_type": "markdown",
      "source": [
        "# 3) Quarterly Sales Forecasting\n",
        "\n",
        "**Data Preparation**"
      ],
      "metadata": {
        "id": "Wm7D34iz7_OH"
      }
    },
    {
      "cell_type": "code",
      "source": [
        "# Aggregate data by Quarter\n",
        "quarter_sales = df_updated.groupby(['Year', 'Quarter'])['Total_Sales'].sum().reset_index()\n",
        "\n",
        "# Convert Year and Quarter to a datetime format\n",
        "quarter_sales['Date'] = pd.to_datetime(quarter_sales['Year'].astype(str) + 'Q' + quarter_sales['Quarter'].astype(str))\n",
        "\n",
        "# Set the Date as the index\n",
        "quarter_sales.set_index('Date', inplace=True)\n",
        "\n",
        "# Prepare the series for ARIMA\n",
        "quarter_sales_series = quarter_sales['Total_Sales']\n"
      ],
      "metadata": {
        "id": "IOKRuQST8BCy"
      },
      "execution_count": null,
      "outputs": []
    },
    {
      "cell_type": "markdown",
      "source": [
        "**Fitting ARIMA for Quarterly Sales**"
      ],
      "metadata": {
        "id": "JhXHcWGU-TGC"
      }
    },
    {
      "cell_type": "code",
      "source": [
        "# Fit the ARIMA model\n",
        "model_quarterly = ARIMA(quarter_sales_series, order=(5, 1, 0))\n",
        "model_quarterly_fit = model_quarterly.fit()\n",
        "\n",
        "# Print the summary\n",
        "print(model_quarterly_fit.summary())\n"
      ],
      "metadata": {
        "colab": {
          "base_uri": "https://localhost:8080/"
        },
        "id": "iK8pRg3t8Im_",
        "outputId": "69bd4967-a84b-4b8e-deb0-07568354c48e"
      },
      "execution_count": null,
      "outputs": [
        {
          "output_type": "stream",
          "name": "stderr",
          "text": [
            "/usr/local/lib/python3.10/dist-packages/statsmodels/tsa/base/tsa_model.py:473: ValueWarning: No frequency information was provided, so inferred frequency QS-OCT will be used.\n",
            "  self._init_dates(dates, freq)\n",
            "/usr/local/lib/python3.10/dist-packages/statsmodels/tsa/base/tsa_model.py:473: ValueWarning: No frequency information was provided, so inferred frequency QS-OCT will be used.\n",
            "  self._init_dates(dates, freq)\n",
            "/usr/local/lib/python3.10/dist-packages/statsmodels/tsa/base/tsa_model.py:473: ValueWarning: No frequency information was provided, so inferred frequency QS-OCT will be used.\n",
            "  self._init_dates(dates, freq)\n"
          ]
        },
        {
          "output_type": "stream",
          "name": "stdout",
          "text": [
            "                               SARIMAX Results                                \n",
            "==============================================================================\n",
            "Dep. Variable:            Total_Sales   No. Observations:                    5\n",
            "Model:                 ARIMA(5, 1, 0)   Log Likelihood                 -55.416\n",
            "Date:                Mon, 26 Aug 2024   AIC                            122.831\n",
            "Time:                        18:36:07   BIC                            119.149\n",
            "Sample:                    10-01-2010   HQIC                           114.751\n",
            "                         - 10-01-2011                                         \n",
            "Covariance Type:                  opg                                         \n",
            "==============================================================================\n",
            "                 coef    std err          z      P>|z|      [0.025      0.975]\n",
            "------------------------------------------------------------------------------\n",
            "ar.L1          0.2772   3.48e+04   7.97e-06      1.000   -6.82e+04    6.82e+04\n",
            "ar.L2          0.1184   2.02e+05   5.85e-07      1.000   -3.96e+05    3.96e+05\n",
            "ar.L3         -0.1066   1.47e+05  -7.26e-07      1.000   -2.88e+05    2.88e+05\n",
            "ar.L4          0.6745      2e+05   3.37e-06      1.000   -3.93e+05    3.93e+05\n",
            "ar.L5        1.49e-07   1.21e+05   1.23e-12      1.000   -2.37e+05    2.37e+05\n",
            "sigma2      4.832e+10      0.609   7.93e+10      0.000    4.83e+10    4.83e+10\n",
            "===================================================================================\n",
            "Ljung-Box (L1) (Q):                   1.14   Jarque-Bera (JB):                 0.29\n",
            "Prob(Q):                              0.28   Prob(JB):                         0.87\n",
            "Heteroskedasticity (H):                nan   Skew:                             0.41\n",
            "Prob(H) (two-sided):                   nan   Kurtosis:                         1.98\n",
            "===================================================================================\n",
            "\n",
            "Warnings:\n",
            "[1] Covariance matrix calculated using the outer product of gradients (complex-step).\n",
            "[2] Covariance matrix is singular or near-singular, with condition number 6.65e+26. Standard errors may be unstable.\n"
          ]
        }
      ]
    },
    {
      "cell_type": "markdown",
      "source": [
        "**Forecasting Quarterly Sales**"
      ],
      "metadata": {
        "id": "2JFZVIhI-lgx"
      }
    },
    {
      "cell_type": "code",
      "source": [
        "# Forecast the next 4 quarters\n",
        "quarterly_forecast = model_quarterly_fit.forecast(steps=4)\n",
        "\n",
        "# Plot the forecast\n",
        "quarter_sales_series.plot(label='Observed')\n",
        "quarterly_forecast.plot(label='Forecast', color='red')\n",
        "plt.title('Quarterly Sales Forecast')\n",
        "plt.legend()\n",
        "plt.show()\n"
      ],
      "metadata": {
        "colab": {
          "base_uri": "https://localhost:8080/",
          "height": 488
        },
        "id": "0dlC_pwu-mGi",
        "outputId": "bc66d1cb-74d9-42fb-bae7-be8964278319"
      },
      "execution_count": null,
      "outputs": [
        {
          "output_type": "display_data",
          "data": {
            "text/plain": [
              "<Figure size 640x480 with 1 Axes>"
            ],
            "image/png": "[encoded data removed]"
          },
          "metadata": {}
        }
      ]
    },
    {
      "cell_type": "markdown",
      "source": [
        "**The plot shows that the observed sales exhibit an upward trend, but the forecasted values (in red) continue to increase at a linear rate, without capturing any potential seasonality or other dynamics present in the observed data. The forecast appears to be a simple linear extrapolation, which does not accurately reflect the actual sales pattern.**"
      ],
      "metadata": {
        "id": "-lrnCS6DZqk5"
      }
    },
    {
      "cell_type": "markdown",
      "source": [
        "**Evaluation of Forecasts for Quarterly Sales**"
      ],
      "metadata": {
        "id": "3TJU1JB3G15T"
      }
    },
    {
      "cell_type": "code",
      "source": [
        "from sklearn.metrics import mean_absolute_error, mean_squared_error\n",
        "\n",
        "# Assuming the last 4 quarters are used for comparison\n",
        "mae_quarterly = mean_absolute_error(quarter_sales_series[-4:], quarterly_forecast)\n",
        "rmse_quarterly = mean_squared_error(quarter_sales_series[-4:], quarterly_forecast, squared=False)\n",
        "\n",
        "print(f'Quarterly Sales MAE: {mae_quarterly}')\n",
        "print(f'Quarterly Sales RMSE: {rmse_quarterly}')\n"
      ],
      "metadata": {
        "colab": {
          "base_uri": "https://localhost:8080/"
        },
        "id": "GZQ_uTMNG2f6",
        "outputId": "5d0e237e-ff09-4cc3-db88-cf8655ff697a"
      },
      "execution_count": null,
      "outputs": [
        {
          "output_type": "stream",
          "name": "stdout",
          "text": [
            "Quarterly Sales MAE: 1515730.9823154425\n",
            "Quarterly Sales RMSE: 1516666.0886295254\n"
          ]
        }
      ]
    },
    {
      "cell_type": "markdown",
      "source": [
        "**Interpretation  of MAE and RMSE Metrics**\n",
        "\n",
        "**Mean Absolute Error (MAE):**\n",
        "\n",
        "- The MAE of 1,515,730.98 indicates the average absolute error between the forecasted and actual quarterly sales values. This very high value suggests that the model's predictions are not accurate.\n",
        "\n",
        "**Root Mean Square Error (RMSE):**\n",
        "\n",
        "- The RMSE of 1,516,666.09 is also very high, indicating that the model has significant error in its predictions. RMSE penalizes larger errors more than MAE, highlighting the model's struggles with forecasting accuracy."
      ],
      "metadata": {
        "id": "R_AxN9kbZ1T5"
      }
    },
    {
      "cell_type": "markdown",
      "source": [
        "# Actionable Recommendations\n",
        "\n",
        "**Model Improvement:**\n",
        "\n",
        "**Reevaluate ARIMA Model Parameters:**\n",
        "\n",
        "- Given the lack of significance in the autoregressive terms and the high error metrics, consider experimenting with different (p, d, q) combinations or using grid search to find a better-fitting model.\n",
        "\n",
        "**Consider Adding Seasonal Components:**\n",
        "\n",
        "- Since the data is quarterly, there may be seasonality present. Consider using a SARIMA model, which includes seasonal components, to better capture the quarterly patterns.\n",
        "\n",
        "**Explore Alternative Models:**\n",
        "\n",
        "- Prophet Model: Prophet, developed by Facebook, might better capture the trend and seasonality in quarterly data. Prophet is particularly effective at handling seasonality and trends, making it worth considering.\n",
        "\n",
        "**Machine Learning Models:**\n",
        "\n",
        "- Consider using machine learning models such as XGBoost or Random Forest, which can handle complex patterns and interactions, particularly if more features (e.g., lagged values, external variables) are added."
      ],
      "metadata": {
        "id": "QyREZYvfaI_Y"
      }
    },
    {
      "cell_type": "code",
      "source": [],
      "metadata": {
        "id": "Z6sQWCJAZ8ni"
      },
      "execution_count": null,
      "outputs": []
    }
  ]
}